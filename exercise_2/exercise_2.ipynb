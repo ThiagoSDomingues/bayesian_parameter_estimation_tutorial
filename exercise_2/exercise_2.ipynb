{
 "cells": [
  {
   "cell_type": "code",
   "execution_count": 1,
   "metadata": {},
   "outputs": [],
   "source": [
    "# Load libraries\n",
    "import numpy as np\n",
    "import matplotlib as mpl\n",
    "import matplotlib.pyplot as plt\n",
    "import scipy.interpolate\n",
    "import scipy.integrate\n",
    "from mpl_toolkits.mplot3d import Axes3D"
   ]
  },
  {
   "cell_type": "code",
   "execution_count": 2,
   "metadata": {},
   "outputs": [],
   "source": [
    "################################# \n",
    "######## Define the model ######\n",
    "#################################\n",
    "\n",
    "# Return observable given parameter\n",
    "def observable_1(x,y):\n",
    "    \n",
    "    result=(3-x)*(y+1)\n",
    "    \n",
    "    return result\n",
    "\n",
    "# Define the allowed range of values of the parameter \"x\" and \"y\"\n",
    "xmin=0;\n",
    "xmax=2;\n",
    "ymin=0;\n",
    "ymax=10;"
   ]
  },
  {
   "cell_type": "code",
   "execution_count": 3,
   "metadata": {},
   "outputs": [],
   "source": [
    "#########################\n",
    "#### Get the \"data\" #####\n",
    "#########################\n",
    "\n",
    "# Value of the parameters \"x\" we want to constrain with the Bayesian analysis\n",
    "x_truth=0.4;\n",
    "y_truth=0.4;\n",
    "\n",
    "# This will be a \"closure test\": we use the model to generate \"data\"\n",
    "# The Bayesian parameter estimation should be peaked around \"x_truth\"\n",
    "data_mean=observable_1(x_truth,y_truth)\n",
    "\n",
    "# Real data come with uncertainties\n",
    "# Here, we just define an arbitrary uncertainty on the \"data\"\n",
    "relative_uncertainty=.1\n",
    "data_uncert=relative_uncertainty*data_mean"
   ]
  },
  {
   "cell_type": "code",
   "execution_count": 4,
   "metadata": {},
   "outputs": [
    {
     "data": {
      "image/png": "[encoded data removed]",
      "text/plain": [
       "<Figure size 432x288 with 2 Axes>"
      ]
     },
     "metadata": {
      "needs_background": "light"
     },
     "output_type": "display_data"
    }
   ],
   "source": [
    "#########################\n",
    "#### Plot the \"data\" #####\n",
    "#########################\n",
    "\n",
    "# Plot what the observable looks like over the parameter prior\n",
    "plt.figure()\n",
    "plt.xscale('linear')\n",
    "plt.yscale('linear')\n",
    "plt.xlabel(r'$x$')\n",
    "plt.ylabel(r'$y$')\n",
    "\n",
    "# Compute the posterior for a range of values of the parameter \"x\"\n",
    "x_range=np.arange(xmin, xmax, (xmax-xmin)/100.)\n",
    "y_range=np.arange(ymin, ymax, (ymax-ymin)/100.)\n",
    "\n",
    "x_mesh, y_mesh =  np.meshgrid(x_range, y_range, sparse=False, indexing='ij')\n",
    "\n",
    "z_list = observable_1(x_mesh,y_mesh)\n",
    "\n",
    "# Plot the posterior\n",
    "#plt.plot(x_range, y_list, \"-\", color='black', lw=4)\n",
    "#surf = ax.plot_surface(x_mesh, y_mesh, z_list, cmap=cm.coolwarm, linewidth=0, antialiased=False)\n",
    "cs = plt.contourf(x_mesh, y_mesh, z_list, 20)\n",
    "\n",
    "cbar = plt.colorbar(cs,label=\"Observable 1\") \n",
    "\n",
    "cs2 = plt.contour(x_mesh, y_mesh, z_list, levels=data_mean,colors='r')\n",
    "cs3 = plt.contourf(x_mesh, y_mesh, z_list, levels=[data_mean-data_uncert,data_mean+data_uncert],colors='r',alpha=.4)\n",
    "\n",
    "#plt.ticklabel_format(axis='y', style='sci', scilimits=(0,0))\n",
    "\n",
    "# Plot the true value of the parameter \"x\", for comparison\n",
    "#plt.axvline(x=x_truth)\n",
    "\n",
    "# Plot the \"data\"\n",
    "# plt.axhline(y=data_mean)\n",
    "#plt.fill_between(x_range, data_mean-data_uncert, data_mean+data_uncert)\n",
    "\n",
    "#plt.legend(loc='upper right',fontsize=16)\n",
    "plt.tight_layout()\n",
    "plt.show()"
   ]
  },
  {
   "cell_type": "code",
   "execution_count": 5,
   "metadata": {},
   "outputs": [],
   "source": [
    "########################\n",
    "# Get the calculations #\n",
    "########################\n",
    "\n",
    "# Number of points used for the \"emulator\"\n",
    "number_design_emulator=20\n",
    "\n",
    "# For simplicity, we sample the emulator uniformly\n",
    "x_list=np.linspace(xmin,xmax,num=number_design_emulator)\n",
    "y_list=np.linspace(ymin,ymax,num=number_design_emulator)\n",
    "\n",
    "x_mesh, y_mesh =  np.meshgrid(x_list, y_list, sparse=False, indexing='ij')\n",
    "\n",
    "calculation_mean_list=observable_1(x_mesh,y_mesh)\n",
    "\n",
    "# Model calculations typically have some uncertainties as well\n",
    "relative_uncertainty=0.03\n",
    "calculation_uncert_list=relative_uncertainty*calculation_mean_list"
   ]
  },
  {
   "cell_type": "code",
   "execution_count": 6,
   "metadata": {},
   "outputs": [
    {
     "name": "stdout",
     "output_type": "stream",
     "text": [
      "18.2\n",
      "[18.2]\n"
     ]
    }
   ],
   "source": [
    "#########################################\n",
    "# Make interpolator for each observable #\n",
    "#########################################\n",
    "\n",
    "emulator_calc=scipy.interpolate.interp2d(x_list, y_list, calculation_mean_list.T, kind='linear', copy=True, bounds_error=False, fill_value=None)\n",
    "emulator_uncert=scipy.interpolate.interp2d(x_list, y_list, calculation_uncert_list.T, kind='linear', copy=True, bounds_error=False, fill_value=None)\n",
    "\n",
    "# Does the emulator work?\n",
    "x_test=xmin+0.2*(xmax-xmin)\n",
    "y_test=ymin+0.6*(ymax-ymin)\n",
    "print(observable_1(x_test,y_test))\n",
    "print(emulator_calc(x_test,y_test))"
   ]
  },
  {
   "cell_type": "code",
   "execution_count": 7,
   "metadata": {},
   "outputs": [],
   "source": [
    "#########################\n",
    "# Compute the posterior #\n",
    "#########################\n",
    "\n",
    "# Under the approximations that we're using, the posterior is\n",
    "# exp(-1/2*\\sum_{observables, pT} (model(observable,pT)-data(observable,pT))^2/(model_err(observable,pT)^2+exp_err(observable,pT)^2)\n",
    "\n",
    "# Here 'x' is the only model parameter\n",
    "def posterior(x,y):\n",
    "\n",
    "    res=0.0\n",
    "\n",
    "    # Vectorize the emulators\n",
    "    emulator_calc_vec = np.vectorize(emulator_calc)\n",
    "    emulator_uncert_vec = np.vectorize(emulator_uncert)\n",
    "    \n",
    "    tmp_model_mean=emulator_calc_vec(x,y)\n",
    "    tmp_model_uncert=emulator_uncert_vec(x,y)\n",
    "\n",
    "    tmp_data_mean=data_mean\n",
    "    tmp_data_uncert=data_uncert\n",
    "\n",
    "    res+=np.power(tmp_model_mean-tmp_data_mean,2)/(tmp_model_uncert*tmp_model_uncert+tmp_data_uncert*tmp_data_uncert)\n",
    "\n",
    "    res*=-0.5\n",
    "\n",
    "    return np.exp(res)"
   ]
  },
  {
   "cell_type": "code",
   "execution_count": 8,
   "metadata": {},
   "outputs": [
    {
     "data": {
      "image/png": "[encoded data removed]",
      "text/plain": [
       "<Figure size 432x288 with 2 Axes>"
      ]
     },
     "metadata": {
      "needs_background": "light"
     },
     "output_type": "display_data"
    }
   ],
   "source": [
    "##################\n",
    "# Plot posterior #\n",
    "##################\n",
    "\n",
    "plt.figure()\n",
    "plt.xscale('linear')\n",
    "plt.yscale('linear')\n",
    "#plt.xlim(0,2)\n",
    "#plt.ylim(1e-5,1e2)\n",
    "plt.xlabel(r'$x$')\n",
    "plt.ylabel(r'$y$')\n",
    "\n",
    "# Compute the posterior for a range of values of the parameter \"x\"\n",
    "x_range=np.arange(xmin, xmax, (xmax-xmin)/100.)\n",
    "y_range=np.arange(ymin, ymax, (ymax-ymin)/100.)\n",
    "\n",
    "x_mesh, y_mesh =  np.meshgrid(x_range, y_range, sparse=False, indexing='ij')\n",
    "\n",
    "posterior_array = posterior(x_mesh,y_mesh)\n",
    "\n",
    "# Plot the posterior\n",
    "#plt.plot(x_range, y_list, \"-\", color='black', lw=4)\n",
    "#surf = ax.plot_surface(x_mesh, y_mesh, z_list, cmap=cm.coolwarm, linewidth=0, antialiased=False)\n",
    "cs = plt.contourf(x_mesh, y_mesh, posterior_array, 20)\n",
    "\n",
    "cbar = plt.colorbar(cs,label=\"Posterior\") \n",
    "\n",
    "#cs2 = plt.contour(x_mesh, y_mesh, z_list, levels=data_mean,colors='r')\n",
    "cs3 = plt.contour(x_mesh, y_mesh, z_list, levels=[data_mean-data_uncert,data_mean+data_uncert],colors='r')\n",
    "\n",
    "#posterior = [ posterior(x) for x in x_range ]\n",
    "\n",
    "# Plot the posterior\n",
    "#plt.plot(x_range, posterior, \"-\", color='black', lw=4)\n",
    "\n",
    "#plt.ticklabel_format(axis='y', style='sci', scilimits=(0,0))\n",
    "\n",
    "# Plot the true value, for comparison\n",
    "#plt.axvline(x=x_truth)\n",
    "\n",
    "#plt.legend(loc='upper right',fontsize=16)\n",
    "plt.tight_layout()\n",
    "plt.show()"
   ]
  },
  {
   "cell_type": "code",
   "execution_count": 9,
   "metadata": {},
   "outputs": [
    {
     "data": {
      "image/png": "[encoded data removed]",
      "text/plain": [
       "<Figure size 432x288 with 1 Axes>"
      ]
     },
     "metadata": {
      "needs_background": "light"
     },
     "output_type": "display_data"
    },
    {
     "data": {
      "image/png": "[encoded data removed]",
      "text/plain": [
       "<Figure size 432x288 with 1 Axes>"
      ]
     },
     "metadata": {
      "needs_background": "light"
     },
     "output_type": "display_data"
    }
   ],
   "source": [
    "###############################\n",
    "# Plotting marginal posterior #\n",
    "###############################\n",
    "\n",
    "# Posterior vs x\n",
    "plt.figure()\n",
    "plt.xscale('linear')\n",
    "plt.yscale('linear')\n",
    "#plt.xlim(0,2)\n",
    "#plt.ylim(1e-5,1e2)\n",
    "plt.xlabel(r'$x$')\n",
    "plt.ylabel(r'Posterior')\n",
    "\n",
    "# The marginal posterior for a parameter is obtained by integrating over a subset of other model parameters\n",
    "\n",
    "# Compute the posterior for a range of values of the parameter \"x\"\n",
    "x_range=np.arange(xmin, xmax, (xmax-xmin)/100.)\n",
    "\n",
    "posterior_list = [ scipy.integrate.quad(lambda y_val: posterior(x_val,y_val),ymin,ymax)[0] for x_val in x_range ]\n",
    "\n",
    "plt.plot(x_range, posterior_list, \"-\", color='black', lw=4)\n",
    "\n",
    "plt.axvline(x=x_truth)\n",
    "\n",
    "#plt.legend(loc='upper right',fontsize=16)\n",
    "plt.tight_layout()\n",
    "plt.show()\n",
    "\n",
    "\n",
    "# Posterior vs y\n",
    "plt.figure()\n",
    "plt.xscale('linear')\n",
    "plt.yscale('linear')\n",
    "plt.xlabel(r'$y$')\n",
    "plt.ylabel(r'Posterior')\n",
    "\n",
    "# Compute the posterior for a range of values of the parameter \"x\"\n",
    "y_range=np.arange(ymin, ymax, (ymax-ymin)/100.)\n",
    "\n",
    "posterior_list = [ scipy.integrate.quad(lambda x_val: posterior(x_val,y_val),xmin,xmax)[0] for y_val in y_range ]\n",
    "\n",
    "plt.plot(y_range, posterior_list, \"-\", color='black', lw=4)\n",
    "\n",
    "plt.axvline(x=y_truth)\n",
    "\n",
    "#plt.legend(loc='upper right',fontsize=16)\n",
    "plt.tight_layout()\n",
    "plt.show()\n"
   ]
  },
  {
   "cell_type": "code",
   "execution_count": null,
   "metadata": {},
   "outputs": [],
   "source": []
  }
 ],
 "metadata": {
  "kernelspec": {
   "display_name": "Python 3",
   "language": "python",
   "name": "python3"
  },
  "language_info": {
   "codemirror_mode": {
    "name": "ipython",
    "version": 3
   },
   "file_extension": ".py",
   "mimetype": "text/x-python",
   "name": "python",
   "nbconvert_exporter": "python",
   "pygments_lexer": "ipython3",
   "version": "3.7.0"
  }
 },
 "nbformat": 4,
 "nbformat_minor": 2
}
