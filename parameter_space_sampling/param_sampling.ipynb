{
 "cells": [
  {
   "cell_type": "code",
   "execution_count": 7,
   "metadata": {},
   "outputs": [],
   "source": [
    "# Load libraries\n",
    "import numpy as np\n",
    "import matplotlib.pyplot as plt"
   ]
  },
  {
   "cell_type": "code",
   "execution_count": 8,
   "metadata": {},
   "outputs": [
    {
     "data": {
      "image/png": "[encoded data removed]",
      "text/plain": [
       "<Figure size 432x288 with 1 Axes>"
      ]
     },
     "metadata": {
      "needs_background": "light"
     },
     "output_type": "display_data"
    }
   ],
   "source": [
    "# Code to generate low discrepancy quasirandom sequences\n",
    "# Code by Martin Roberts \n",
    "# Ref.: http://extremelearning.com.au/unreasonable-effectiveness-of-quasirandom-sequences/\n",
    "\n",
    "def get_quasirandom_sequence(dim, num_samples):\n",
    "\n",
    "    # Using the above nested radical formula for g=phi_d\n",
    "    # or you could just hard-code it.\n",
    "    # phi(1) = 1.61803398874989484820458683436563\n",
    "    # phi(2) = 1.32471795724474602596090885447809\n",
    "    def phi(d):\n",
    "        x=2.0000\n",
    "        for i in range(10):\n",
    "            x = pow(1+x,1/(d+1))\n",
    "            return x\n",
    "\n",
    "    # Number of dimensions.\n",
    "    d=dim\n",
    "\n",
    "    # number of required points\n",
    "    n=num_samples\n",
    "\n",
    "    g = phi(d)\n",
    "    alpha = np.zeros(d)\n",
    "    for j in range(d):\n",
    "          alpha[j] = pow(1/g,j+1) %1\n",
    "          z = np.zeros((n, d))\n",
    "\n",
    "    # This number can be any real number.\n",
    "    # Common default setting is typically seed=0\n",
    "    # But seed = 0.5 is generally better.\n",
    "    seed=0.5\n",
    "    for i in range(n):\n",
    "          z[i] = (seed + alpha*(i+1)) %1\n",
    "\n",
    "    return z\n",
    "\n",
    "\n",
    "# Get a quasi-random sequence\n",
    "\n",
    "# Number of points used for the \"emulator\"\n",
    "number_design_emulator_per_dimension=20*2                #<=========================================================\n",
    "\n",
    "number_of_observables=2\n",
    "\n",
    "unit_random_sequence=get_quasirandom_sequence(number_of_observables, number_design_emulator_per_dimension)\n",
    "\n",
    "# Info about parameters\n",
    "xmin, xmax = 0,5\n",
    "x_label=\"param x\"\n",
    "\n",
    "ymin, ymax = 0, 10\n",
    "y_label=\"param x\"\n",
    "\n",
    "# Get the design points\n",
    "design_points = np.array([ (xmin+a*(xmax-xmin),ymin+b*(ymax-ymin)) for (a,b) in unit_random_sequence ])\n",
    "design_x, design_y = design_points.T\n",
    "\n",
    "#print(design_points)\n",
    "\n",
    "# Plot the design points\n",
    "\n",
    "plt.figure()\n",
    "plt.xscale('linear')\n",
    "plt.yscale('linear')\n",
    "#plt.xlim(0,2)\n",
    "#plt.ylim(1e-5,1e2)\n",
    "plt.xlabel(x_label)\n",
    "plt.ylabel(y_label)\n",
    "\n",
    "plt.scatter(design_x,design_y)\n",
    "\n",
    "#plt.legend(loc='upper right',fontsize=16)\n",
    "plt.tight_layout()\n",
    "plt.show()\n"
   ]
  },
  {
   "cell_type": "code",
   "execution_count": null,
   "metadata": {},
   "outputs": [],
   "source": []
  }
 ],
 "metadata": {
  "kernelspec": {
   "display_name": "Python 3",
   "language": "python",
   "name": "python3"
  },
  "language_info": {
   "codemirror_mode": {
    "name": "ipython",
    "version": 3
   },
   "file_extension": ".py",
   "mimetype": "text/x-python",
   "name": "python",
   "nbconvert_exporter": "python",
   "pygments_lexer": "ipython3",
   "version": "3.7.0"
  }
 },
 "nbformat": 4,
 "nbformat_minor": 2
}
