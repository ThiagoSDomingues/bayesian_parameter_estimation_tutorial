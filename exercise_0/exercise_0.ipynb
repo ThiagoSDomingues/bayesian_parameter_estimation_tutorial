{
 "cells": [
  {
   "cell_type": "code",
   "execution_count": 1,
   "metadata": {},
   "outputs": [],
   "source": [
    "# Load libraries\n",
    "import numpy as np\n",
    "import matplotlib as mpl\n",
    "import matplotlib.pyplot as plt\n",
    "import scipy.interpolate"
   ]
  },
  {
   "cell_type": "code",
   "execution_count": 2,
   "metadata": {},
   "outputs": [],
   "source": [
    "################################# \n",
    "######## Define the model ######\n",
    "#################################\n",
    "\n",
    "# Return observable given parameter\n",
    "def observable_1(x):\n",
    "    \n",
    "    result=x*x                   #<=========================================================\n",
    "    \n",
    "    return result\n",
    "\n",
    "# Define the allowed range of values of the parameter x\n",
    "xmin=0;                         #<=========================================================\n",
    "xmax=10;                        #<========================================================="
   ]
  },
  {
   "cell_type": "code",
   "execution_count": 3,
   "metadata": {},
   "outputs": [],
   "source": [
    "#########################\n",
    "#### Get the \"data\" #####\n",
    "#########################\n",
    "\n",
    "# Value of the parameter \"x\" we want to constrain with the Bayesian analysis\n",
    "x_truth=3.6;                   #<=========================================================\n",
    "\n",
    "# This will be a \"closure test\": we use the model to generate \"data\"\n",
    "# The Bayesian parameter estimation should be peaked around \"x_truth\"\n",
    "data_mean=observable_1(x_truth)\n",
    "\n",
    "# Real data come with uncertainties\n",
    "# Here, we just define an arbitrary uncertainty on the \"data\"\n",
    "relative_uncertainty=.1      #<=========================================================\n",
    "data_uncert=relative_uncertainty*data_mean"
   ]
  },
  {
   "cell_type": "code",
   "execution_count": 4,
   "metadata": {},
   "outputs": [
    {
     "data": {
      "image/png": "[encoded data removed]",
      "text/plain": [
       "<Figure size 432x288 with 1 Axes>"
      ]
     },
     "metadata": {
      "needs_background": "light"
     },
     "output_type": "display_data"
    }
   ],
   "source": [
    "#########################\n",
    "#### Plot the \"data\" #####\n",
    "#########################\n",
    "\n",
    "# Plot what the observable looks like over the parameter prior\n",
    "plt.figure()\n",
    "plt.xscale('linear')\n",
    "plt.yscale('linear')\n",
    "plt.xlabel(r'$x$')\n",
    "plt.ylabel(r'observable_1')\n",
    "\n",
    "# Compute the posterior for a range of values of the parameter \"x\"\n",
    "x_range=np.arange(xmin, xmax, (xmax-xmin)/1000.)\n",
    "y_list = [ observable_1(x) for x in x_range ]\n",
    "\n",
    "# Plot the posterior\n",
    "plt.plot(x_range, y_list, \"-\", color='black', lw=4)\n",
    "\n",
    "plt.ticklabel_format(axis='y', style='sci', scilimits=(0,0))\n",
    "\n",
    "# Plot the true value of the parameter \"x\", for comparison\n",
    "# plt.axvline(x=x_truth,color='red')\n",
    "\n",
    "# Plot the \"data\"\n",
    "# plt.axhline(y=data_mean)\n",
    "# plt.fill_between(x_range, data_mean-data_uncert, data_mean+data_uncert)\n",
    "\n",
    "plt.tight_layout()\n",
    "plt.show()"
   ]
  },
  {
   "cell_type": "code",
   "execution_count": 5,
   "metadata": {},
   "outputs": [],
   "source": [
    "########################\n",
    "# Get the calculations #\n",
    "########################\n",
    "\n",
    "# Number of points used for the \"emulator\"\n",
    "number_design_emulator=10                     #<=========================================================\n",
    "\n",
    "# For simplicity, we sample the emulator uniformly\n",
    "x_list=np.linspace(xmin,xmax,num=number_design_emulator)    #<===========================================\n",
    "\n",
    "calculation_mean_list=observable_1(x_list)\n",
    "\n",
    "# Model calculations typically have some uncertainties as well\n",
    "relative_uncertainty=0.03                    #<=========================================================\n",
    "calculation_uncert_list=relative_uncertainty*calculation_mean_list"
   ]
  },
  {
   "cell_type": "code",
   "execution_count": 6,
   "metadata": {},
   "outputs": [],
   "source": [
    "#########################################\n",
    "# Make interpolator for each observable #\n",
    "#########################################\n",
    "\n",
    "emulator_calc=scipy.interpolate.interp1d(x_list, calculation_mean_list, kind='linear', copy=True, bounds_error=False, fill_value=None)\n",
    "emulator_uncert=scipy.interpolate.interp1d(x_list, calculation_uncert_list, kind='linear', copy=True, bounds_error=False, fill_value=None)"
   ]
  },
  {
   "cell_type": "code",
   "execution_count": 7,
   "metadata": {},
   "outputs": [],
   "source": [
    "#########################\n",
    "# Compute the posterior #\n",
    "#########################\n",
    "\n",
    "# We assume uniform priors for this example\n",
    "# Here 'x' is the only model parameter\n",
    "def prior(x):\n",
    "    \n",
    "    return 1\n",
    "\n",
    "\n",
    "# Under the approximations that we're using, the likelihood is\n",
    "# exp(-1/2*\\sum_{observables, pT} (model(observable,pT)-data(observable,pT))^2/(model_err(observable,pT)^2+exp_err(observable,pT)^2)\n",
    "\n",
    "# Here 'x' is the only model parameter\n",
    "def likelihood(x):\n",
    "\n",
    "    res=0.0\n",
    "\n",
    "    tmp_model_mean=emulator_calc(x)\n",
    "    tmp_model_uncert=emulator_uncert(x)\n",
    "\n",
    "    tmp_data_mean=data_mean\n",
    "    tmp_data_uncert=data_uncert\n",
    "    \n",
    "    cov=(tmp_model_uncert*tmp_model_uncert+tmp_data_uncert*tmp_data_uncert)\n",
    "\n",
    "    res+=np.power(tmp_model_mean-tmp_data_mean,2)/cov\n",
    "\n",
    "    res*=-0.5\n",
    "\n",
    "    return np.exp(res)/np.sqrt(cov)\n",
    "\n",
    "#\n",
    "def posterior(x):\n",
    "    \n",
    "    return prior(x)*likelihood(x)"
   ]
  },
  {
   "cell_type": "code",
   "execution_count": 9,
   "metadata": {},
   "outputs": [
    {
     "data": {
      "image/png": "[encoded data removed]",
      "text/plain": [
       "<Figure size 432x288 with 1 Axes>"
      ]
     },
     "metadata": {
      "needs_background": "light"
     },
     "output_type": "display_data"
    }
   ],
   "source": [
    "##################\n",
    "# Plot posterior #\n",
    "##################\n",
    "\n",
    "plt.figure()\n",
    "plt.xscale('linear')\n",
    "plt.yscale('linear')\n",
    "#plt.xlim(0,2)\n",
    "#plt.ylim(1e-5,1e2)\n",
    "plt.xlabel(r'$x$')\n",
    "plt.ylabel(r'Posterior')\n",
    "\n",
    "# Compute the posterior for a range of values of the parameter \"x\"\n",
    "x_range=np.arange(xmin, xmax, (xmax-xmin)/1000.)\n",
    "posterior_list = [ posterior(x) for x in x_range ]\n",
    "\n",
    "# Plot the posterior\n",
    "plt.plot(x_range, posterior_list, \"-\", color='black', lw=4)\n",
    "\n",
    "plt.ticklabel_format(axis='y', style='sci', scilimits=(0,0))\n",
    "\n",
    "# Plot the true value, for comparison\n",
    "plt.axvline(x=x_truth,color='red')\n",
    "\n",
    "#plt.legend(loc='upper right',fontsize=16)\n",
    "plt.tight_layout()\n",
    "plt.show()"
   ]
  },
  {
   "cell_type": "code",
   "execution_count": null,
   "metadata": {},
   "outputs": [],
   "source": []
  }
 ],
 "metadata": {
  "kernelspec": {
   "display_name": "Python 3",
   "language": "python",
   "name": "python3"
  },
  "language_info": {
   "codemirror_mode": {
    "name": "ipython",
    "version": 3
   },
   "file_extension": ".py",
   "mimetype": "text/x-python",
   "name": "python",
   "nbconvert_exporter": "python",
   "pygments_lexer": "ipython3",
   "version": "3.7.0"
  }
 },
 "nbformat": 4,
 "nbformat_minor": 2
}
